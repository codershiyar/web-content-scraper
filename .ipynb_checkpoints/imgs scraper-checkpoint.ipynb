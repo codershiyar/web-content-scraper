{
 "cells": [
  {
   "cell_type": "code",
   "execution_count": null,
   "id": "1d89bea0",
   "metadata": {},
   "outputs": [],
   "source": [
    "import requests\n",
    "from bs4 import BeautifulSoup\n",
    "import json\n",
    "import csv\n",
    "import time\n",
    "import re\n",
    "to = \"100\"\n",
    "# decathlon de, fr, en nl imgs scraper\n",
    "urls =[\n",
    "    \"https://www.decathlon.nl/search?Ntt=jas&facets=genderLabels:HEREN_&from=0&size=\"+to,\n",
    "    \"https://www.decathlon.de/browse/c0-damen/c1-sportbekleidung/c3-jacken/_/N-5jidwr?from=0&size=\"+to,\n",
    "    \"https://www.decathlon.de/browse/c0-herren/c1-sportbekleidung/c3-jacken/_/N-jvebss?from=0&size=\"+to,\n",
    "    \"https://www.decathlon.fr/search?Ntt=manteau&from=40&size=\"+to]\n",
    "i = 0\n",
    "for url in urls:\n",
    "    headers = {'User-Agent': 'Mozilla/5.0 (Windows NT 10.0; Win64; x64) AppleWebKit/537.36 (KHTML, like Gecko) Chrome/58.0.3029.110 Safari/537.3'}\n",
    "    response = requests.get(urls[0], headers=headers)\n",
    "    content = BeautifulSoup(response.content,'html.parser')\n",
    "    imgs = content.find_all('img', {'class': 'svelte-11itto'})\n",
    "   \n",
    "    for img in imgs:\n",
    "        i = i +1\n",
    "        try:\n",
    "            img_link = img[\"src\"].split('&f=')[0] + \"?f=600x600\"\n",
    "            response = requests.get(img_link)\n",
    "             # Schrijf de inhoud van de response weg naar een lokale bestand\n",
    "            bestandsnaam =  f'imgs/{str(i)}.jpg'   \n",
    "            with open(bestandsnaam, 'wb') as f:\n",
    "                      f.write(response.content)\n",
    "            print(f'Afbeelding opgeslagen als {bestandsnaam}.')\n",
    "            time.sleep(1)\n",
    "        except:\n",
    "            print(f'link:{i} werkte niet')\n",
    "print(\"Done\")\n"
   ]
  },
  {
   "cell_type": "code",
   "execution_count": null,
   "id": "1a8257c8",
   "metadata": {},
   "outputs": [],
   "source": []
  }
 ],
 "metadata": {
  "kernelspec": {
   "display_name": "Python 3 (ipykernel)",
   "language": "python",
   "name": "python3"
  },
  "language_info": {
   "codemirror_mode": {
    "name": "ipython",
    "version": 3
   },
   "file_extension": ".py",
   "mimetype": "text/x-python",
   "name": "python",
   "nbconvert_exporter": "python",
   "pygments_lexer": "ipython3",
   "version": "3.10.9"
  },
  "vscode": {
   "interpreter": {
    "hash": "ad71ef84d4ad54f41589baeb61778d21c9f099ca7cd95c333ddeb6bbd54c2d9c"
   }
  }
 },
 "nbformat": 4,
 "nbformat_minor": 5
}
